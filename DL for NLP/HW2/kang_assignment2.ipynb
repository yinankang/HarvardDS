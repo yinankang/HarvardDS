{
 "cells": [
  {
   "cell_type": "markdown",
   "metadata": {},
   "source": []
  },
  {
   "cell_type": "markdown",
   "metadata": {},
   "source": [
    "# Yinan Kang Assignment 2\n",
    "## CSCI 89"
   ]
  },
  {
   "cell_type": "code",
   "execution_count": 46,
   "metadata": {},
   "outputs": [
    {
     "name": "stdout",
     "output_type": "stream",
     "text": [
      "/Users/yinankang/Downloads\r\n"
     ]
    }
   ],
   "source": [
    "!pwd\n",
    "from IPython.core.interactiveshell import InteractiveShell\n",
    "InteractiveShell.ast_node_interactivity = \"all\""
   ]
  },
  {
   "cell_type": "code",
   "execution_count": 13,
   "metadata": {},
   "outputs": [],
   "source": [
    "import os\n",
    "import numpy as np\n",
    "import gensim\n",
    "# Get the interactive Tools for Matplotlib\n",
    "%matplotlib notebook\n",
    "import matplotlib.pyplot as plt\n",
    "plt.style.use('ggplot')\n",
    "from sklearn.decomposition import PCA\n",
    "from gensim.test.utils import datapath, get_tmpfile\n",
    "from gensim.models import KeyedVectors\n",
    "from gensim.scripts.glove2word2vec import glove2word2vec"
   ]
  },
  {
   "cell_type": "markdown",
   "metadata": {},
   "source": [
    "Setting up from where the lecture example Jupyter notebook began...\n",
    "\n",
    "## Problem 1"
   ]
  },
  {
   "cell_type": "code",
   "execution_count": 20,
   "metadata": {},
   "outputs": [
    {
     "name": "stderr",
     "output_type": "stream",
     "text": [
      "/anaconda3/lib/python3.7/site-packages/smart_open/smart_open_lib.py:398: UserWarning: This function is deprecated, use smart_open.open instead. See the migration notes for details: https://github.com/RaRe-Technologies/smart_open/blob/master/README.rst#migrating-to-the-new-open-function\n",
      "  'See the migration notes for details: %s' % _MIGRATION_NOTES_URL\n"
     ]
    },
    {
     "data": {
      "text/plain": [
       "(400000, 100)"
      ]
     },
     "execution_count": 20,
     "metadata": {},
     "output_type": "execute_result"
    }
   ],
   "source": [
    "# Getting '100 dimension' glove in there\n",
    "glove_file = datapath('glove.6B.100d.txt')\n",
    "word2vec_glove_file = get_tmpfile(\"glove.6B.100d.word2vec.txt\")\n",
    "glove2word2vec(glove_file, word2vec_glove_file)"
   ]
  },
  {
   "cell_type": "code",
   "execution_count": 21,
   "metadata": {},
   "outputs": [
    {
     "name": "stderr",
     "output_type": "stream",
     "text": [
      "/anaconda3/lib/python3.7/site-packages/smart_open/smart_open_lib.py:398: UserWarning: This function is deprecated, use smart_open.open instead. See the migration notes for details: https://github.com/RaRe-Technologies/smart_open/blob/master/README.rst#migrating-to-the-new-open-function\n",
      "  'See the migration notes for details: %s' % _MIGRATION_NOTES_URL\n"
     ]
    }
   ],
   "source": [
    "model = KeyedVectors.load_word2vec_format(word2vec_glove_file)"
   ]
  },
  {
   "cell_type": "code",
   "execution_count": 26,
   "metadata": {},
   "outputs": [],
   "source": [
    "def analogy(x1, x2, y1):\n",
    "\tresult = model.most_similar(positive=[y1, x2], negative=[x1])\n",
    "\treturn result[0][0]"
   ]
  },
  {
   "cell_type": "code",
   "execution_count": 37,
   "metadata": {},
   "outputs": [],
   "source": [
    "def display_pca_scatterplot(model, words=None, sample=0):\n",
    "\tif words == None:\n",
    "\t\tif sample > 0:\n",
    "\t\t\twords = np.random.choice(list(model.vocab.keys()), sample)\n",
    "\t\telse:\n",
    "\t\t\twords = [ word for word in model.vocab ]\n",
    "\tword_vectors = np.array([model[w] for w in words])\n",
    "\ttwodim = PCA().fit_transform(word_vectors)[:,:2]\n",
    "\tplt.figure(figsize=(6,6))\n",
    "\tplt.scatter(twodim[:,0], twodim[:,1], edgecolors='k', c='r')\n",
    "\tfor word, (x,y) in zip(words, twodim):\n",
    "\t\tplt.text(x+0.05, y+0.05, word)"
   ]
  },
  {
   "cell_type": "code",
   "execution_count": 55,
   "metadata": {},
   "outputs": [
    {
     "data": {
      "text/plain": [
       "'moscow'"
      ]
     },
     "execution_count": 55,
     "metadata": {},
     "output_type": "execute_result"
    },
    {
     "data": {
      "text/plain": [
       "'vegetables'"
      ]
     },
     "execution_count": 55,
     "metadata": {},
     "output_type": "execute_result"
    },
    {
     "data": {
      "text/plain": [
       "'scored'"
      ]
     },
     "execution_count": 55,
     "metadata": {},
     "output_type": "execute_result"
    },
    {
     "data": {
      "text/plain": [
       "'europe'"
      ]
     },
     "execution_count": 55,
     "metadata": {},
     "output_type": "execute_result"
    },
    {
     "data": {
      "application/javascript": [
       "/* Put everything inside the global mpl namespace */\n",
       "window.mpl = {};\n",
       "\n",
       "\n",
       "mpl.get_websocket_type = function() {\n",
       "    if (typeof(WebSocket) !== 'undefined') {\n",
       "        return WebSocket;\n",
       "    } else if (typeof(MozWebSocket) !== 'undefined') {\n",
       "        return MozWebSocket;\n",
       "    } else {\n",
       "        alert('Your browser does not have WebSocket support.' +\n",
       "              'Please try Chrome, Safari or Firefox ≥ 6. ' +\n",
       "              'Firefox 4 and 5 are also supported but you ' +\n",
       "              'have to enable WebSockets in about:config.');\n",
       "    };\n",
       "}\n",
       "\n",
       "mpl.figure = function(figure_id, websocket, ondownload, parent_element) {\n",
       "    this.id = figure_id;\n",
       "\n",
       "    this.ws = websocket;\n",
       "\n",
       "    this.supports_binary = (this.ws.binaryType != undefined);\n",
       "\n",
       "    if (!this.supports_binary) {\n",
       "        var warnings = document.getElementById(\"mpl-warnings\");\n",
       "        if (warnings) {\n",
       "            warnings.style.display = 'block';\n",
       "            warnings.textContent = (\n",
       "                \"This browser does not support binary websocket messages. \" +\n",
       "                    \"Performance may be slow.\");\n",
       "        }\n",
       "    }\n",
       "\n",
       "    this.imageObj = new Image();\n",
       "\n",
       "    this.context = undefined;\n",
       "    this.message = undefined;\n",
       "    this.canvas = undefined;\n",
       "    this.rubberband_canvas = undefined;\n",
       "    this.rubberband_context = undefined;\n",
       "    this.format_dropdown = undefined;\n",
       "\n",
       "    this.image_mode = 'full';\n",
       "\n",
       "    this.root = $('<div/>');\n",
       "    this._root_extra_style(this.root)\n",
       "    this.root.attr('style', 'display: inline-block');\n",
       "\n",
       "    $(parent_element).append(this.root);\n",
       "\n",
       "    this._init_header(this);\n",
       "    this._init_canvas(this);\n",
       "    this._init_toolbar(this);\n",
       "\n",
       "    var fig = this;\n",
       "\n",
       "    this.waiting = false;\n",
       "\n",
       "    this.ws.onopen =  function () {\n",
       "            fig.send_message(\"supports_binary\", {value: fig.supports_binary});\n",
       "            fig.send_message(\"send_image_mode\", {});\n",
       "            if (mpl.ratio != 1) {\n",
       "                fig.send_message(\"set_dpi_ratio\", {'dpi_ratio': mpl.ratio});\n",
       "            }\n",
       "            fig.send_message(\"refresh\", {});\n",
       "        }\n",
       "\n",
       "    this.imageObj.onload = function() {\n",
       "            if (fig.image_mode == 'full') {\n",
       "                // Full images could contain transparency (where diff images\n",
       "                // almost always do), so we need to clear the canvas so that\n",
       "                // there is no ghosting.\n",
       "                fig.context.clearRect(0, 0, fig.canvas.width, fig.canvas.height);\n",
       "            }\n",
       "            fig.context.drawImage(fig.imageObj, 0, 0);\n",
       "        };\n",
       "\n",
       "    this.imageObj.onunload = function() {\n",
       "        fig.ws.close();\n",
       "    }\n",
       "\n",
       "    this.ws.onmessage = this._make_on_message_function(this);\n",
       "\n",
       "    this.ondownload = ondownload;\n",
       "}\n",
       "\n",
       "mpl.figure.prototype._init_header = function() {\n",
       "    var titlebar = $(\n",
       "        '<div class=\"ui-dialog-titlebar ui-widget-header ui-corner-all ' +\n",
       "        'ui-helper-clearfix\"/>');\n",
       "    var titletext = $(\n",
       "        '<div class=\"ui-dialog-title\" style=\"width: 100%; ' +\n",
       "        'text-align: center; padding: 3px;\"/>');\n",
       "    titlebar.append(titletext)\n",
       "    this.root.append(titlebar);\n",
       "    this.header = titletext[0];\n",
       "}\n",
       "\n",
       "\n",
       "\n",
       "mpl.figure.prototype._canvas_extra_style = function(canvas_div) {\n",
       "\n",
       "}\n",
       "\n",
       "\n",
       "mpl.figure.prototype._root_extra_style = function(canvas_div) {\n",
       "\n",
       "}\n",
       "\n",
       "mpl.figure.prototype._init_canvas = function() {\n",
       "    var fig = this;\n",
       "\n",
       "    var canvas_div = $('<div/>');\n",
       "\n",
       "    canvas_div.attr('style', 'position: relative; clear: both; outline: 0');\n",
       "\n",
       "    function canvas_keyboard_event(event) {\n",
       "        return fig.key_event(event, event['data']);\n",
       "    }\n",
       "\n",
       "    canvas_div.keydown('key_press', canvas_keyboard_event);\n",
       "    canvas_div.keyup('key_release', canvas_keyboard_event);\n",
       "    this.canvas_div = canvas_div\n",
       "    this._canvas_extra_style(canvas_div)\n",
       "    this.root.append(canvas_div);\n",
       "\n",
       "    var canvas = $('<canvas/>');\n",
       "    canvas.addClass('mpl-canvas');\n",
       "    canvas.attr('style', \"left: 0; top: 0; z-index: 0; outline: 0\")\n",
       "\n",
       "    this.canvas = canvas[0];\n",
       "    this.context = canvas[0].getContext(\"2d\");\n",
       "\n",
       "    var backingStore = this.context.backingStorePixelRatio ||\n",
       "\tthis.context.webkitBackingStorePixelRatio ||\n",
       "\tthis.context.mozBackingStorePixelRatio ||\n",
       "\tthis.context.msBackingStorePixelRatio ||\n",
       "\tthis.context.oBackingStorePixelRatio ||\n",
       "\tthis.context.backingStorePixelRatio || 1;\n",
       "\n",
       "    mpl.ratio = (window.devicePixelRatio || 1) / backingStore;\n",
       "\n",
       "    var rubberband = $('<canvas/>');\n",
       "    rubberband.attr('style', \"position: absolute; left: 0; top: 0; z-index: 1;\")\n",
       "\n",
       "    var pass_mouse_events = true;\n",
       "\n",
       "    canvas_div.resizable({\n",
       "        start: function(event, ui) {\n",
       "            pass_mouse_events = false;\n",
       "        },\n",
       "        resize: function(event, ui) {\n",
       "            fig.request_resize(ui.size.width, ui.size.height);\n",
       "        },\n",
       "        stop: function(event, ui) {\n",
       "            pass_mouse_events = true;\n",
       "            fig.request_resize(ui.size.width, ui.size.height);\n",
       "        },\n",
       "    });\n",
       "\n",
       "    function mouse_event_fn(event) {\n",
       "        if (pass_mouse_events)\n",
       "            return fig.mouse_event(event, event['data']);\n",
       "    }\n",
       "\n",
       "    rubberband.mousedown('button_press', mouse_event_fn);\n",
       "    rubberband.mouseup('button_release', mouse_event_fn);\n",
       "    // Throttle sequential mouse events to 1 every 20ms.\n",
       "    rubberband.mousemove('motion_notify', mouse_event_fn);\n",
       "\n",
       "    rubberband.mouseenter('figure_enter', mouse_event_fn);\n",
       "    rubberband.mouseleave('figure_leave', mouse_event_fn);\n",
       "\n",
       "    canvas_div.on(\"wheel\", function (event) {\n",
       "        event = event.originalEvent;\n",
       "        event['data'] = 'scroll'\n",
       "        if (event.deltaY < 0) {\n",
       "            event.step = 1;\n",
       "        } else {\n",
       "            event.step = -1;\n",
       "        }\n",
       "        mouse_event_fn(event);\n",
       "    });\n",
       "\n",
       "    canvas_div.append(canvas);\n",
       "    canvas_div.append(rubberband);\n",
       "\n",
       "    this.rubberband = rubberband;\n",
       "    this.rubberband_canvas = rubberband[0];\n",
       "    this.rubberband_context = rubberband[0].getContext(\"2d\");\n",
       "    this.rubberband_context.strokeStyle = \"#000000\";\n",
       "\n",
       "    this._resize_canvas = function(width, height) {\n",
       "        // Keep the size of the canvas, canvas container, and rubber band\n",
       "        // canvas in synch.\n",
       "        canvas_div.css('width', width)\n",
       "        canvas_div.css('height', height)\n",
       "\n",
       "        canvas.attr('width', width * mpl.ratio);\n",
       "        canvas.attr('height', height * mpl.ratio);\n",
       "        canvas.attr('style', 'width: ' + width + 'px; height: ' + height + 'px;');\n",
       "\n",
       "        rubberband.attr('width', width);\n",
       "        rubberband.attr('height', height);\n",
       "    }\n",
       "\n",
       "    // Set the figure to an initial 600x600px, this will subsequently be updated\n",
       "    // upon first draw.\n",
       "    this._resize_canvas(600, 600);\n",
       "\n",
       "    // Disable right mouse context menu.\n",
       "    $(this.rubberband_canvas).bind(\"contextmenu\",function(e){\n",
       "        return false;\n",
       "    });\n",
       "\n",
       "    function set_focus () {\n",
       "        canvas.focus();\n",
       "        canvas_div.focus();\n",
       "    }\n",
       "\n",
       "    window.setTimeout(set_focus, 100);\n",
       "}\n",
       "\n",
       "mpl.figure.prototype._init_toolbar = function() {\n",
       "    var fig = this;\n",
       "\n",
       "    var nav_element = $('<div/>')\n",
       "    nav_element.attr('style', 'width: 100%');\n",
       "    this.root.append(nav_element);\n",
       "\n",
       "    // Define a callback function for later on.\n",
       "    function toolbar_event(event) {\n",
       "        return fig.toolbar_button_onclick(event['data']);\n",
       "    }\n",
       "    function toolbar_mouse_event(event) {\n",
       "        return fig.toolbar_button_onmouseover(event['data']);\n",
       "    }\n",
       "\n",
       "    for(var toolbar_ind in mpl.toolbar_items) {\n",
       "        var name = mpl.toolbar_items[toolbar_ind][0];\n",
       "        var tooltip = mpl.toolbar_items[toolbar_ind][1];\n",
       "        var image = mpl.toolbar_items[toolbar_ind][2];\n",
       "        var method_name = mpl.toolbar_items[toolbar_ind][3];\n",
       "\n",
       "        if (!name) {\n",
       "            // put a spacer in here.\n",
       "            continue;\n",
       "        }\n",
       "        var button = $('<button/>');\n",
       "        button.addClass('ui-button ui-widget ui-state-default ui-corner-all ' +\n",
       "                        'ui-button-icon-only');\n",
       "        button.attr('role', 'button');\n",
       "        button.attr('aria-disabled', 'false');\n",
       "        button.click(method_name, toolbar_event);\n",
       "        button.mouseover(tooltip, toolbar_mouse_event);\n",
       "\n",
       "        var icon_img = $('<span/>');\n",
       "        icon_img.addClass('ui-button-icon-primary ui-icon');\n",
       "        icon_img.addClass(image);\n",
       "        icon_img.addClass('ui-corner-all');\n",
       "\n",
       "        var tooltip_span = $('<span/>');\n",
       "        tooltip_span.addClass('ui-button-text');\n",
       "        tooltip_span.html(tooltip);\n",
       "\n",
       "        button.append(icon_img);\n",
       "        button.append(tooltip_span);\n",
       "\n",
       "        nav_element.append(button);\n",
       "    }\n",
       "\n",
       "    var fmt_picker_span = $('<span/>');\n",
       "\n",
       "    var fmt_picker = $('<select/>');\n",
       "    fmt_picker.addClass('mpl-toolbar-option ui-widget ui-widget-content');\n",
       "    fmt_picker_span.append(fmt_picker);\n",
       "    nav_element.append(fmt_picker_span);\n",
       "    this.format_dropdown = fmt_picker[0];\n",
       "\n",
       "    for (var ind in mpl.extensions) {\n",
       "        var fmt = mpl.extensions[ind];\n",
       "        var option = $(\n",
       "            '<option/>', {selected: fmt === mpl.default_extension}).html(fmt);\n",
       "        fmt_picker.append(option)\n",
       "    }\n",
       "\n",
       "    // Add hover states to the ui-buttons\n",
       "    $( \".ui-button\" ).hover(\n",
       "        function() { $(this).addClass(\"ui-state-hover\");},\n",
       "        function() { $(this).removeClass(\"ui-state-hover\");}\n",
       "    );\n",
       "\n",
       "    var status_bar = $('<span class=\"mpl-message\"/>');\n",
       "    nav_element.append(status_bar);\n",
       "    this.message = status_bar[0];\n",
       "}\n",
       "\n",
       "mpl.figure.prototype.request_resize = function(x_pixels, y_pixels) {\n",
       "    // Request matplotlib to resize the figure. Matplotlib will then trigger a resize in the client,\n",
       "    // which will in turn request a refresh of the image.\n",
       "    this.send_message('resize', {'width': x_pixels, 'height': y_pixels});\n",
       "}\n",
       "\n",
       "mpl.figure.prototype.send_message = function(type, properties) {\n",
       "    properties['type'] = type;\n",
       "    properties['figure_id'] = this.id;\n",
       "    this.ws.send(JSON.stringify(properties));\n",
       "}\n",
       "\n",
       "mpl.figure.prototype.send_draw_message = function() {\n",
       "    if (!this.waiting) {\n",
       "        this.waiting = true;\n",
       "        this.ws.send(JSON.stringify({type: \"draw\", figure_id: this.id}));\n",
       "    }\n",
       "}\n",
       "\n",
       "\n",
       "mpl.figure.prototype.handle_save = function(fig, msg) {\n",
       "    var format_dropdown = fig.format_dropdown;\n",
       "    var format = format_dropdown.options[format_dropdown.selectedIndex].value;\n",
       "    fig.ondownload(fig, format);\n",
       "}\n",
       "\n",
       "\n",
       "mpl.figure.prototype.handle_resize = function(fig, msg) {\n",
       "    var size = msg['size'];\n",
       "    if (size[0] != fig.canvas.width || size[1] != fig.canvas.height) {\n",
       "        fig._resize_canvas(size[0], size[1]);\n",
       "        fig.send_message(\"refresh\", {});\n",
       "    };\n",
       "}\n",
       "\n",
       "mpl.figure.prototype.handle_rubberband = function(fig, msg) {\n",
       "    var x0 = msg['x0'] / mpl.ratio;\n",
       "    var y0 = (fig.canvas.height - msg['y0']) / mpl.ratio;\n",
       "    var x1 = msg['x1'] / mpl.ratio;\n",
       "    var y1 = (fig.canvas.height - msg['y1']) / mpl.ratio;\n",
       "    x0 = Math.floor(x0) + 0.5;\n",
       "    y0 = Math.floor(y0) + 0.5;\n",
       "    x1 = Math.floor(x1) + 0.5;\n",
       "    y1 = Math.floor(y1) + 0.5;\n",
       "    var min_x = Math.min(x0, x1);\n",
       "    var min_y = Math.min(y0, y1);\n",
       "    var width = Math.abs(x1 - x0);\n",
       "    var height = Math.abs(y1 - y0);\n",
       "\n",
       "    fig.rubberband_context.clearRect(\n",
       "        0, 0, fig.canvas.width, fig.canvas.height);\n",
       "\n",
       "    fig.rubberband_context.strokeRect(min_x, min_y, width, height);\n",
       "}\n",
       "\n",
       "mpl.figure.prototype.handle_figure_label = function(fig, msg) {\n",
       "    // Updates the figure title.\n",
       "    fig.header.textContent = msg['label'];\n",
       "}\n",
       "\n",
       "mpl.figure.prototype.handle_cursor = function(fig, msg) {\n",
       "    var cursor = msg['cursor'];\n",
       "    switch(cursor)\n",
       "    {\n",
       "    case 0:\n",
       "        cursor = 'pointer';\n",
       "        break;\n",
       "    case 1:\n",
       "        cursor = 'default';\n",
       "        break;\n",
       "    case 2:\n",
       "        cursor = 'crosshair';\n",
       "        break;\n",
       "    case 3:\n",
       "        cursor = 'move';\n",
       "        break;\n",
       "    }\n",
       "    fig.rubberband_canvas.style.cursor = cursor;\n",
       "}\n",
       "\n",
       "mpl.figure.prototype.handle_message = function(fig, msg) {\n",
       "    fig.message.textContent = msg['message'];\n",
       "}\n",
       "\n",
       "mpl.figure.prototype.handle_draw = function(fig, msg) {\n",
       "    // Request the server to send over a new figure.\n",
       "    fig.send_draw_message();\n",
       "}\n",
       "\n",
       "mpl.figure.prototype.handle_image_mode = function(fig, msg) {\n",
       "    fig.image_mode = msg['mode'];\n",
       "}\n",
       "\n",
       "mpl.figure.prototype.updated_canvas_event = function() {\n",
       "    // Called whenever the canvas gets updated.\n",
       "    this.send_message(\"ack\", {});\n",
       "}\n",
       "\n",
       "// A function to construct a web socket function for onmessage handling.\n",
       "// Called in the figure constructor.\n",
       "mpl.figure.prototype._make_on_message_function = function(fig) {\n",
       "    return function socket_on_message(evt) {\n",
       "        if (evt.data instanceof Blob) {\n",
       "            /* FIXME: We get \"Resource interpreted as Image but\n",
       "             * transferred with MIME type text/plain:\" errors on\n",
       "             * Chrome.  But how to set the MIME type?  It doesn't seem\n",
       "             * to be part of the websocket stream */\n",
       "            evt.data.type = \"image/png\";\n",
       "\n",
       "            /* Free the memory for the previous frames */\n",
       "            if (fig.imageObj.src) {\n",
       "                (window.URL || window.webkitURL).revokeObjectURL(\n",
       "                    fig.imageObj.src);\n",
       "            }\n",
       "\n",
       "            fig.imageObj.src = (window.URL || window.webkitURL).createObjectURL(\n",
       "                evt.data);\n",
       "            fig.updated_canvas_event();\n",
       "            fig.waiting = false;\n",
       "            return;\n",
       "        }\n",
       "        else if (typeof evt.data === 'string' && evt.data.slice(0, 21) == \"data:image/png;base64\") {\n",
       "            fig.imageObj.src = evt.data;\n",
       "            fig.updated_canvas_event();\n",
       "            fig.waiting = false;\n",
       "            return;\n",
       "        }\n",
       "\n",
       "        var msg = JSON.parse(evt.data);\n",
       "        var msg_type = msg['type'];\n",
       "\n",
       "        // Call the  \"handle_{type}\" callback, which takes\n",
       "        // the figure and JSON message as its only arguments.\n",
       "        try {\n",
       "            var callback = fig[\"handle_\" + msg_type];\n",
       "        } catch (e) {\n",
       "            console.log(\"No handler for the '\" + msg_type + \"' message type: \", msg);\n",
       "            return;\n",
       "        }\n",
       "\n",
       "        if (callback) {\n",
       "            try {\n",
       "                // console.log(\"Handling '\" + msg_type + \"' message: \", msg);\n",
       "                callback(fig, msg);\n",
       "            } catch (e) {\n",
       "                console.log(\"Exception inside the 'handler_\" + msg_type + \"' callback:\", e, e.stack, msg);\n",
       "            }\n",
       "        }\n",
       "    };\n",
       "}\n",
       "\n",
       "// from http://stackoverflow.com/questions/1114465/getting-mouse-location-in-canvas\n",
       "mpl.findpos = function(e) {\n",
       "    //this section is from http://www.quirksmode.org/js/events_properties.html\n",
       "    var targ;\n",
       "    if (!e)\n",
       "        e = window.event;\n",
       "    if (e.target)\n",
       "        targ = e.target;\n",
       "    else if (e.srcElement)\n",
       "        targ = e.srcElement;\n",
       "    if (targ.nodeType == 3) // defeat Safari bug\n",
       "        targ = targ.parentNode;\n",
       "\n",
       "    // jQuery normalizes the pageX and pageY\n",
       "    // pageX,Y are the mouse positions relative to the document\n",
       "    // offset() returns the position of the element relative to the document\n",
       "    var x = e.pageX - $(targ).offset().left;\n",
       "    var y = e.pageY - $(targ).offset().top;\n",
       "\n",
       "    return {\"x\": x, \"y\": y};\n",
       "};\n",
       "\n",
       "/*\n",
       " * return a copy of an object with only non-object keys\n",
       " * we need this to avoid circular references\n",
       " * http://stackoverflow.com/a/24161582/3208463\n",
       " */\n",
       "function simpleKeys (original) {\n",
       "  return Object.keys(original).reduce(function (obj, key) {\n",
       "    if (typeof original[key] !== 'object')\n",
       "        obj[key] = original[key]\n",
       "    return obj;\n",
       "  }, {});\n",
       "}\n",
       "\n",
       "mpl.figure.prototype.mouse_event = function(event, name) {\n",
       "    var canvas_pos = mpl.findpos(event)\n",
       "\n",
       "    if (name === 'button_press')\n",
       "    {\n",
       "        this.canvas.focus();\n",
       "        this.canvas_div.focus();\n",
       "    }\n",
       "\n",
       "    var x = canvas_pos.x * mpl.ratio;\n",
       "    var y = canvas_pos.y * mpl.ratio;\n",
       "\n",
       "    this.send_message(name, {x: x, y: y, button: event.button,\n",
       "                             step: event.step,\n",
       "                             guiEvent: simpleKeys(event)});\n",
       "\n",
       "    /* This prevents the web browser from automatically changing to\n",
       "     * the text insertion cursor when the button is pressed.  We want\n",
       "     * to control all of the cursor setting manually through the\n",
       "     * 'cursor' event from matplotlib */\n",
       "    event.preventDefault();\n",
       "    return false;\n",
       "}\n",
       "\n",
       "mpl.figure.prototype._key_event_extra = function(event, name) {\n",
       "    // Handle any extra behaviour associated with a key event\n",
       "}\n",
       "\n",
       "mpl.figure.prototype.key_event = function(event, name) {\n",
       "\n",
       "    // Prevent repeat events\n",
       "    if (name == 'key_press')\n",
       "    {\n",
       "        if (event.which === this._key)\n",
       "            return;\n",
       "        else\n",
       "            this._key = event.which;\n",
       "    }\n",
       "    if (name == 'key_release')\n",
       "        this._key = null;\n",
       "\n",
       "    var value = '';\n",
       "    if (event.ctrlKey && event.which != 17)\n",
       "        value += \"ctrl+\";\n",
       "    if (event.altKey && event.which != 18)\n",
       "        value += \"alt+\";\n",
       "    if (event.shiftKey && event.which != 16)\n",
       "        value += \"shift+\";\n",
       "\n",
       "    value += 'k';\n",
       "    value += event.which.toString();\n",
       "\n",
       "    this._key_event_extra(event, name);\n",
       "\n",
       "    this.send_message(name, {key: value,\n",
       "                             guiEvent: simpleKeys(event)});\n",
       "    return false;\n",
       "}\n",
       "\n",
       "mpl.figure.prototype.toolbar_button_onclick = function(name) {\n",
       "    if (name == 'download') {\n",
       "        this.handle_save(this, null);\n",
       "    } else {\n",
       "        this.send_message(\"toolbar_button\", {name: name});\n",
       "    }\n",
       "};\n",
       "\n",
       "mpl.figure.prototype.toolbar_button_onmouseover = function(tooltip) {\n",
       "    this.message.textContent = tooltip;\n",
       "};\n",
       "mpl.toolbar_items = [[\"Home\", \"Reset original view\", \"fa fa-home icon-home\", \"home\"], [\"Back\", \"Back to  previous view\", \"fa fa-arrow-left icon-arrow-left\", \"back\"], [\"Forward\", \"Forward to next view\", \"fa fa-arrow-right icon-arrow-right\", \"forward\"], [\"\", \"\", \"\", \"\"], [\"Pan\", \"Pan axes with left mouse, zoom with right\", \"fa fa-arrows icon-move\", \"pan\"], [\"Zoom\", \"Zoom to rectangle\", \"fa fa-square-o icon-check-empty\", \"zoom\"], [\"\", \"\", \"\", \"\"], [\"Download\", \"Download plot\", \"fa fa-floppy-o icon-save\", \"download\"]];\n",
       "\n",
       "mpl.extensions = [\"eps\", \"jpeg\", \"pdf\", \"png\", \"ps\", \"raw\", \"svg\", \"tif\"];\n",
       "\n",
       "mpl.default_extension = \"png\";var comm_websocket_adapter = function(comm) {\n",
       "    // Create a \"websocket\"-like object which calls the given IPython comm\n",
       "    // object with the appropriate methods. Currently this is a non binary\n",
       "    // socket, so there is still some room for performance tuning.\n",
       "    var ws = {};\n",
       "\n",
       "    ws.close = function() {\n",
       "        comm.close()\n",
       "    };\n",
       "    ws.send = function(m) {\n",
       "        //console.log('sending', m);\n",
       "        comm.send(m);\n",
       "    };\n",
       "    // Register the callback with on_msg.\n",
       "    comm.on_msg(function(msg) {\n",
       "        //console.log('receiving', msg['content']['data'], msg);\n",
       "        // Pass the mpl event to the overridden (by mpl) onmessage function.\n",
       "        ws.onmessage(msg['content']['data'])\n",
       "    });\n",
       "    return ws;\n",
       "}\n",
       "\n",
       "mpl.mpl_figure_comm = function(comm, msg) {\n",
       "    // This is the function which gets called when the mpl process\n",
       "    // starts-up an IPython Comm through the \"matplotlib\" channel.\n",
       "\n",
       "    var id = msg.content.data.id;\n",
       "    // Get hold of the div created by the display call when the Comm\n",
       "    // socket was opened in Python.\n",
       "    var element = $(\"#\" + id);\n",
       "    var ws_proxy = comm_websocket_adapter(comm)\n",
       "\n",
       "    function ondownload(figure, format) {\n",
       "        window.open(figure.imageObj.src);\n",
       "    }\n",
       "\n",
       "    var fig = new mpl.figure(id, ws_proxy,\n",
       "                           ondownload,\n",
       "                           element.get(0));\n",
       "\n",
       "    // Call onopen now - mpl needs it, as it is assuming we've passed it a real\n",
       "    // web socket which is closed, not our websocket->open comm proxy.\n",
       "    ws_proxy.onopen();\n",
       "\n",
       "    fig.parent_element = element.get(0);\n",
       "    fig.cell_info = mpl.find_output_cell(\"<div id='\" + id + \"'></div>\");\n",
       "    if (!fig.cell_info) {\n",
       "        console.error(\"Failed to find cell for figure\", id, fig);\n",
       "        return;\n",
       "    }\n",
       "\n",
       "    var output_index = fig.cell_info[2]\n",
       "    var cell = fig.cell_info[0];\n",
       "\n",
       "};\n",
       "\n",
       "mpl.figure.prototype.handle_close = function(fig, msg) {\n",
       "    var width = fig.canvas.width/mpl.ratio\n",
       "    fig.root.unbind('remove')\n",
       "\n",
       "    // Update the output cell to use the data from the current canvas.\n",
       "    fig.push_to_output();\n",
       "    var dataURL = fig.canvas.toDataURL();\n",
       "    // Re-enable the keyboard manager in IPython - without this line, in FF,\n",
       "    // the notebook keyboard shortcuts fail.\n",
       "    IPython.keyboard_manager.enable()\n",
       "    $(fig.parent_element).html('<img src=\"' + dataURL + '\" width=\"' + width + '\">');\n",
       "    fig.close_ws(fig, msg);\n",
       "}\n",
       "\n",
       "mpl.figure.prototype.close_ws = function(fig, msg){\n",
       "    fig.send_message('closing', msg);\n",
       "    // fig.ws.close()\n",
       "}\n",
       "\n",
       "mpl.figure.prototype.push_to_output = function(remove_interactive) {\n",
       "    // Turn the data on the canvas into data in the output cell.\n",
       "    var width = this.canvas.width/mpl.ratio\n",
       "    var dataURL = this.canvas.toDataURL();\n",
       "    this.cell_info[1]['text/html'] = '<img src=\"' + dataURL + '\" width=\"' + width + '\">';\n",
       "}\n",
       "\n",
       "mpl.figure.prototype.updated_canvas_event = function() {\n",
       "    // Tell IPython that the notebook contents must change.\n",
       "    IPython.notebook.set_dirty(true);\n",
       "    this.send_message(\"ack\", {});\n",
       "    var fig = this;\n",
       "    // Wait a second, then push the new image to the DOM so\n",
       "    // that it is saved nicely (might be nice to debounce this).\n",
       "    setTimeout(function () { fig.push_to_output() }, 1000);\n",
       "}\n",
       "\n",
       "mpl.figure.prototype._init_toolbar = function() {\n",
       "    var fig = this;\n",
       "\n",
       "    var nav_element = $('<div/>')\n",
       "    nav_element.attr('style', 'width: 100%');\n",
       "    this.root.append(nav_element);\n",
       "\n",
       "    // Define a callback function for later on.\n",
       "    function toolbar_event(event) {\n",
       "        return fig.toolbar_button_onclick(event['data']);\n",
       "    }\n",
       "    function toolbar_mouse_event(event) {\n",
       "        return fig.toolbar_button_onmouseover(event['data']);\n",
       "    }\n",
       "\n",
       "    for(var toolbar_ind in mpl.toolbar_items){\n",
       "        var name = mpl.toolbar_items[toolbar_ind][0];\n",
       "        var tooltip = mpl.toolbar_items[toolbar_ind][1];\n",
       "        var image = mpl.toolbar_items[toolbar_ind][2];\n",
       "        var method_name = mpl.toolbar_items[toolbar_ind][3];\n",
       "\n",
       "        if (!name) { continue; };\n",
       "\n",
       "        var button = $('<button class=\"btn btn-default\" href=\"#\" title=\"' + name + '\"><i class=\"fa ' + image + ' fa-lg\"></i></button>');\n",
       "        button.click(method_name, toolbar_event);\n",
       "        button.mouseover(tooltip, toolbar_mouse_event);\n",
       "        nav_element.append(button);\n",
       "    }\n",
       "\n",
       "    // Add the status bar.\n",
       "    var status_bar = $('<span class=\"mpl-message\" style=\"text-align:right; float: right;\"/>');\n",
       "    nav_element.append(status_bar);\n",
       "    this.message = status_bar[0];\n",
       "\n",
       "    // Add the close button to the window.\n",
       "    var buttongrp = $('<div class=\"btn-group inline pull-right\"></div>');\n",
       "    var button = $('<button class=\"btn btn-mini btn-primary\" href=\"#\" title=\"Stop Interaction\"><i class=\"fa fa-power-off icon-remove icon-large\"></i></button>');\n",
       "    button.click(function (evt) { fig.handle_close(fig, {}); } );\n",
       "    button.mouseover('Stop Interaction', toolbar_mouse_event);\n",
       "    buttongrp.append(button);\n",
       "    var titlebar = this.root.find($('.ui-dialog-titlebar'));\n",
       "    titlebar.prepend(buttongrp);\n",
       "}\n",
       "\n",
       "mpl.figure.prototype._root_extra_style = function(el){\n",
       "    var fig = this\n",
       "    el.on(\"remove\", function(){\n",
       "\tfig.close_ws(fig, {});\n",
       "    });\n",
       "}\n",
       "\n",
       "mpl.figure.prototype._canvas_extra_style = function(el){\n",
       "    // this is important to make the div 'focusable\n",
       "    el.attr('tabindex', 0)\n",
       "    // reach out to IPython and tell the keyboard manager to turn it's self\n",
       "    // off when our div gets focus\n",
       "\n",
       "    // location in version 3\n",
       "    if (IPython.notebook.keyboard_manager) {\n",
       "        IPython.notebook.keyboard_manager.register_events(el);\n",
       "    }\n",
       "    else {\n",
       "        // location in version 2\n",
       "        IPython.keyboard_manager.register_events(el);\n",
       "    }\n",
       "\n",
       "}\n",
       "\n",
       "mpl.figure.prototype._key_event_extra = function(event, name) {\n",
       "    var manager = IPython.notebook.keyboard_manager;\n",
       "    if (!manager)\n",
       "        manager = IPython.keyboard_manager;\n",
       "\n",
       "    // Check for shift+enter\n",
       "    if (event.shiftKey && event.which == 13) {\n",
       "        this.canvas_div.blur();\n",
       "        event.shiftKey = false;\n",
       "        // Send a \"J\" for go to next cell\n",
       "        event.which = 74;\n",
       "        event.keyCode = 74;\n",
       "        manager.command_mode();\n",
       "        manager.handle_keydown(event);\n",
       "    }\n",
       "}\n",
       "\n",
       "mpl.figure.prototype.handle_save = function(fig, msg) {\n",
       "    fig.ondownload(fig, null);\n",
       "}\n",
       "\n",
       "\n",
       "mpl.find_output_cell = function(html_output) {\n",
       "    // Return the cell and output element which can be found *uniquely* in the notebook.\n",
       "    // Note - this is a bit hacky, but it is done because the \"notebook_saving.Notebook\"\n",
       "    // IPython event is triggered only after the cells have been serialised, which for\n",
       "    // our purposes (turning an active figure into a static one), is too late.\n",
       "    var cells = IPython.notebook.get_cells();\n",
       "    var ncells = cells.length;\n",
       "    for (var i=0; i<ncells; i++) {\n",
       "        var cell = cells[i];\n",
       "        if (cell.cell_type === 'code'){\n",
       "            for (var j=0; j<cell.output_area.outputs.length; j++) {\n",
       "                var data = cell.output_area.outputs[j];\n",
       "                if (data.data) {\n",
       "                    // IPython >= 3 moved mimebundle to data attribute of output\n",
       "                    data = data.data;\n",
       "                }\n",
       "                if (data['text/html'] == html_output) {\n",
       "                    return [cell, data, j];\n",
       "                }\n",
       "            }\n",
       "        }\n",
       "    }\n",
       "}\n",
       "\n",
       "// Register the function which deals with the matplotlib target/channel.\n",
       "// The kernel may be null if the page has been refreshed.\n",
       "if (IPython.notebook.kernel != null) {\n",
       "    IPython.notebook.kernel.comm_manager.register_target('matplotlib', mpl.mpl_figure_comm);\n",
       "}\n"
      ],
      "text/plain": [
       "<IPython.core.display.Javascript object>"
      ]
     },
     "metadata": {},
     "output_type": "display_data"
    },
    {
     "data": {
      "text/html": [
       "<img src=\"data:image/png;base64,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\" width=\"600\">"
      ],
      "text/plain": [
       "<IPython.core.display.HTML object>"
      ]
     },
     "metadata": {},
     "output_type": "display_data"
    }
   ],
   "source": [
    "# Chose the following analogies: \n",
    "analogy('france','paris','russia')\n",
    "analogy('mangos','fruit','carrots')\n",
    "analogy('soccer','goal','basketball')\n",
    "analogy('china','asia','netherlands')\n",
    "\n",
    "# Plot\n",
    "display_pca_scatterplot(model,['france','paris','russia','moscow','mangos','fruit','carrots','vegetables','soccer','goal','basketball'\n"
   ]
  },
  {
   "cell_type": "markdown",
   "metadata": {},
   "source": [
    "## Problem 3\n",
    "### Using 300 dimensional "
   ]
  },
  {
   "cell_type": "code",
   "execution_count": 56,
   "metadata": {},
   "outputs": [
    {
     "name": "stderr",
     "output_type": "stream",
     "text": [
      "/anaconda3/lib/python3.7/site-packages/smart_open/smart_open_lib.py:398: UserWarning: This function is deprecated, use smart_open.open instead. See the migration notes for details: https://github.com/RaRe-Technologies/smart_open/blob/master/README.rst#migrating-to-the-new-open-function\n",
      "  'See the migration notes for details: %s' % _MIGRATION_NOTES_URL\n"
     ]
    },
    {
     "data": {
      "text/plain": [
       "(400000, 300)"
      ]
     },
     "execution_count": 56,
     "metadata": {},
     "output_type": "execute_result"
    }
   ],
   "source": [
    "glove_file = datapath('glove.6B.300d.txt')\n",
    "word2vec_glove_file = get_tmpfile(\"glove.6B.300d.word2vec.txt\")\n",
    "glove2word2vec(glove_file, word2vec_glove_file)"
   ]
  },
  {
   "cell_type": "code",
   "execution_count": 59,
   "metadata": {},
   "outputs": [
    {
     "name": "stderr",
     "output_type": "stream",
     "text": [
      "/anaconda3/lib/python3.7/site-packages/smart_open/smart_open_lib.py:398: UserWarning: This function is deprecated, use smart_open.open instead. See the migration notes for details: https://github.com/RaRe-Technologies/smart_open/blob/master/README.rst#migrating-to-the-new-open-function\n",
      "  'See the migration notes for details: %s' % _MIGRATION_NOTES_URL\n"
     ]
    }
   ],
   "source": [
    "model = KeyedVectors.load_word2vec_format(word2vec_glove_file)\n",
    "def analogy(x1, x2, y1):\n",
    "\tresult = model.most_similar(positive=[y1, x2], negative=[x1])\n",
    "\treturn result[0][0]\n",
    "def display_pca_scatterplot(model, words=None, sample=0):\n",
    "\tif words == None:\n",
    "\t\tif sample > 0:\n",
    "\t\t\twords = np.random.choice(list(model.vocab.keys()), sample)\n",
    "\t\telse:\n",
    "\t\t\twords = [ word for word in model.vocab ]\n",
    "\tword_vectors = np.array([model[w] for w in words])\n",
    "\ttwodim = PCA().fit_transform(word_vectors)[:,:2]\n",
    "\tplt.figure(figsize=(6,6))\n",
    "\tplt.scatter(twodim[:,0], twodim[:,1], edgecolors='k', c='r')\n",
    "\tfor word, (x,y) in zip(words, twodim):\n",
    "\t\tplt.text(x+0.05, y+0.05, word)"
   ]
  },
  {
   "cell_type": "code",
   "execution_count": 110,
   "metadata": {},
   "outputs": [
    {
     "data": {
      "text/plain": [
       "'moscow'"
      ]
     },
     "execution_count": 110,
     "metadata": {},
     "output_type": "execute_result"
    },
    {
     "data": {
      "text/plain": [
       "'vegetables'"
      ]
     },
     "execution_count": 110,
     "metadata": {},
     "output_type": "execute_result"
    },
    {
     "data": {
      "text/plain": [
       "'goals'"
      ]
     },
     "execution_count": 110,
     "metadata": {},
     "output_type": "execute_result"
    },
    {
     "data": {
      "text/plain": [
       "'europe'"
      ]
     },
     "execution_count": 110,
     "metadata": {},
     "output_type": "execute_result"
    },
    {
     "data": {
      "image/png": "[encoded data removed]",
      "text/plain": [
       "<Figure size 432x432 with 1 Axes>"
      ]
     },
     "metadata": {
      "needs_background": "light"
     },
     "output_type": "display_data"
    }
   ],
   "source": [
    "analogy('france','paris','russia')\n",
    "analogy('mangos','fruit','carrots')\n",
    "analogy('soccer','goal','basketball')\n",
    "analogy('china','asia','netherlands')\n",
    "\n",
    "# Plot\n",
    "display_pca_scatterplot(model,['france','paris','russia','moscow','mangos','fruit','carrots','vegetables','soccer','goal','basketball'\n",
    "                              ,'china','asia','netherlands'])"
   ]
  },
  {
   "cell_type": "markdown",
   "metadata": {},
   "source": [
    "\n",
    "We see that with '300 dimensional', the spatial difference between like terms grows larger. \n"
   ]
  },
  {
   "cell_type": "markdown",
   "metadata": {},
   "source": [
    "## Problem 3\n",
    "### Using T-SNE"
   ]
  },
  {
   "cell_type": "code",
   "execution_count": 111,
   "metadata": {},
   "outputs": [
    {
     "ename": "NameError",
     "evalue": "name 'final_embeddings' is not defined",
     "output_type": "error",
     "traceback": [
      "\u001b[0;31m---------------------------------------------------------------------------\u001b[0m",
      "\u001b[0;31mNameError\u001b[0m                                 Traceback (most recent call last)",
      "\u001b[0;32m<ipython-input-111-8d029ecedf1f>\u001b[0m in \u001b[0;36m<module>\u001b[0;34m()\u001b[0m\n\u001b[1;32m      8\u001b[0m     perplexity = 30, n_components=2, init='pca', n_iter=5000, method = 'exact')\n\u001b[1;32m      9\u001b[0m \u001b[0mplot_only\u001b[0m \u001b[0;34m=\u001b[0m \u001b[0;36m500\u001b[0m\u001b[0;34m\u001b[0m\u001b[0;34m\u001b[0m\u001b[0m\n\u001b[0;32m---> 10\u001b[0;31m \u001b[0mlow_dim_embs\u001b[0m \u001b[0;34m=\u001b[0m \u001b[0mtsne\u001b[0m\u001b[0;34m.\u001b[0m\u001b[0mfit_transform\u001b[0m\u001b[0;34m(\u001b[0m\u001b[0mfinal_embeddings\u001b[0m\u001b[0;34m[\u001b[0m\u001b[0;34m:\u001b[0m\u001b[0mplot_only\u001b[0m\u001b[0;34m,\u001b[0m \u001b[0;34m:\u001b[0m\u001b[0;34m]\u001b[0m\u001b[0;34m)\u001b[0m\u001b[0;34m\u001b[0m\u001b[0;34m\u001b[0m\u001b[0m\n\u001b[0m\u001b[1;32m     11\u001b[0m \u001b[0mlabels\u001b[0m \u001b[0;34m=\u001b[0m \u001b[0;34m[\u001b[0m\u001b[0mreverse_dictionary\u001b[0m\u001b[0;34m[\u001b[0m\u001b[0mi\u001b[0m\u001b[0;34m]\u001b[0m \u001b[0;32mfor\u001b[0m \u001b[0mi\u001b[0m \u001b[0;32min\u001b[0m \u001b[0mxrange\u001b[0m\u001b[0;34m(\u001b[0m\u001b[0mplot_only\u001b[0m\u001b[0;34m)\u001b[0m\u001b[0;34m]\u001b[0m\u001b[0;34m\u001b[0m\u001b[0;34m\u001b[0m\u001b[0m\n\u001b[1;32m     12\u001b[0m \u001b[0mplot_with_labels\u001b[0m\u001b[0;34m(\u001b[0m\u001b[0mlow_dim_embs\u001b[0m\u001b[0;34m,\u001b[0m \u001b[0mlabels\u001b[0m\u001b[0;34m,\u001b[0m \u001b[0mos\u001b[0m\u001b[0;34m.\u001b[0m\u001b[0mpath\u001b[0m\u001b[0;34m.\u001b[0m\u001b[0mjoin\u001b[0m\u001b[0;34m(\u001b[0m\u001b[0mgettempdir\u001b[0m\u001b[0;34m(\u001b[0m\u001b[0;34m)\u001b[0m\u001b[0;34m,\u001b[0m \u001b[0;34m'tsne.png'\u001b[0m\u001b[0;34m)\u001b[0m\u001b[0;34m)\u001b[0m\u001b[0;34m\u001b[0m\u001b[0;34m\u001b[0m\u001b[0m\n",
      "\u001b[0;31mNameError\u001b[0m: name 'final_embeddings' is not defined"
     ]
    }
   ],
   "source": [
    "## Problem 4\n",
    "### Using Scikit-Learn TSNE\n",
    "\n",
    "from sklearn.manifold import TSNE\n",
    "import matplotlib.pyplot as plt\n",
    "\n",
    "tsne = TSNE(\n",
    "    perplexity = 30, n_components=2, init='pca', n_iter=5000, method = 'exact')\n",
    "plot_only = 500\n",
    "low_dim_embs = tsne.fit_transform(final_embeddings[:plot_only, :])\n",
    "labels = [reverse_dictionary[i] for i in xrange(plot_only)]\n",
    "plot_with_labels(low_dim_embs, labels, os.path.join(gettempdir(), 'tsne.png'))\n",
    "\n"
   ]
  },
  {
   "cell_type": "markdown",
   "metadata": {},
   "source": [
    "Unsure how to go about this error. Also ran out of time b/c attending work conference :("
   ]
  },
  {
   "cell_type": "markdown",
   "metadata": {},
   "source": [
    "## Problem 4"
   ]
  },
  {
   "cell_type": "code",
   "execution_count": 81,
   "metadata": {},
   "outputs": [],
   "source": [
    "from keras.layers import Input, Dense\n",
    "from keras.models import Model\n",
    "from keras.datasets import mnist\n",
    "import numpy as np\n",
    "\n",
    "encoding_dim = 64\n",
    "input_img = Input(shape=(784,))\n",
    "encoded = Dense(encoding_dim, activation = 'relu')(input_img)\n",
    "decoded = Dense(784, activation = 'sigmoid')(encoded)\n",
    "autoencoder = Model(input_img, decoded)\n",
    "\n",
    "encoder = Model(input_img, encoded)\n",
    "\n",
    "encoded_input = Input(shape=(encoding_dim,))\n",
    "decoder_layer = autoencoder.layers[-1]\n",
    "decoder = Model(encoded_input, decoder_layer(encoded_input))\n",
    "\n",
    "autoencoder.compile(optimizer='adadelta',loss = 'binary_crossentropy')"
   ]
  },
  {
   "cell_type": "code",
   "execution_count": 82,
   "metadata": {},
   "outputs": [],
   "source": [
    "# Only x data, as no labels are being included\n",
    "(x_train,_), (x_test,_) = mnist.load_data()\n",
    "x_train = x_train.astype('float64') / 255\n",
    "x_train = x_train.reshape((len(x_train), np.prod(x_train.shape[1:])))"
   ]
  },
  {
   "cell_type": "code",
   "execution_count": 115,
   "metadata": {},
   "outputs": [
    {
     "name": "stdout",
     "output_type": "stream",
     "text": [
      "(60000, 28, 28, 1)\n",
      "Train on 60000 samples, validate on 10000 samples\n",
      "Epoch 1/3\n",
      "60000/60000 [==============================] - 58s 961us/step - loss: 0.0857 - val_loss: 0.0845\n",
      "Epoch 2/3\n",
      "60000/60000 [==============================] - 55s 909us/step - loss: 0.0833 - val_loss: 0.0801\n",
      "Epoch 3/3\n",
      "60000/60000 [==============================] - 55s 912us/step - loss: 0.0814 - val_loss: 0.0816\n"
     ]
    }
   ],
   "source": [
    "print(x_train.shape)\n",
    "history = autoencoder.fit(x_train, x_train, epochs=3, shuffle = True, batch_size = 256\n",
    "                         , validation_data=(x_test,x_test))\n",
    "\n",
    "# Only doing 3 epochs b/c running locally\n"
   ]
  },
  {
   "cell_type": "code",
   "execution_count": 93,
   "metadata": {},
   "outputs": [
    {
     "data": {
      "text/plain": [
       "dict_keys(['val_loss', 'loss'])"
      ]
     },
     "execution_count": 93,
     "metadata": {},
     "output_type": "execute_result"
    },
    {
     "data": {
      "text/plain": [
       "[<matplotlib.lines.Line2D at 0x1a2cbfc908>]"
      ]
     },
     "execution_count": 93,
     "metadata": {},
     "output_type": "execute_result"
    },
    {
     "data": {
      "text/plain": [
       "[<matplotlib.lines.Line2D at 0x1a15d5a3c8>]"
      ]
     },
     "execution_count": 93,
     "metadata": {},
     "output_type": "execute_result"
    },
    {
     "data": {
      "text/plain": [
       "Text(0.5,1,'Training and validation loss')"
      ]
     },
     "execution_count": 93,
     "metadata": {},
     "output_type": "execute_result"
    },
    {
     "data": {
      "text/plain": [
       "Text(0.5,0,'Epochs')"
      ]
     },
     "execution_count": 93,
     "metadata": {},
     "output_type": "execute_result"
    },
    {
     "data": {
      "text/plain": [
       "Text(0,0.5,'Loss')"
      ]
     },
     "execution_count": 93,
     "metadata": {},
     "output_type": "execute_result"
    },
    {
     "data": {
      "text/plain": [
       "<matplotlib.legend.Legend at 0x1a2cbfcda0>"
      ]
     },
     "execution_count": 93,
     "metadata": {},
     "output_type": "execute_result"
    },
    {
     "data": {
      "image/png": "[encoded data removed]",
      "text/plain": [
       "<Figure size 432x288 with 1 Axes>"
      ]
     },
     "metadata": {
      "needs_background": "light"
     },
     "output_type": "display_data"
    }
   ],
   "source": [
    "# Plot Loss Function\n",
    "\n",
    "history_dict = history.history \n",
    "history_dict.keys() \n",
    "\n",
    "\n",
    "\n",
    "import matplotlib.pyplot as plt\n",
    "%matplotlib inline\n",
    "loss = history.history['loss']\n",
    "val_loss = history.history['val_loss']\n",
    "epochs = range(1, len(loss) + 1)\n",
    "plt.plot(epochs, loss, 'bo', label='Training loss')\n",
    "plt.plot(epochs, val_loss, 'b', label='Validation loss')\n",
    "plt.title('Training and validation loss')\n",
    "plt.xlabel('Epochs')\n",
    "plt.ylabel('Loss')\n",
    "plt.legend()\n",
    "plt.show()"
   ]
  },
  {
   "cell_type": "markdown",
   "metadata": {},
   "source": [
    "## Problem 5"
   ]
  },
  {
   "cell_type": "code",
   "execution_count": 105,
   "metadata": {},
   "outputs": [
    {
     "data": {
      "text/plain": [
       "<Figure size 1440x144 with 0 Axes>"
      ]
     },
     "execution_count": 105,
     "metadata": {},
     "output_type": "execute_result"
    },
    {
     "data": {
      "text/plain": [
       "<matplotlib.image.AxesImage at 0x1a1f77acf8>"
      ]
     },
     "execution_count": 105,
     "metadata": {},
     "output_type": "execute_result"
    },
    {
     "data": {
      "text/plain": [
       "<matplotlib.image.AxesImage at 0x1a1f802b00>"
      ]
     },
     "execution_count": 105,
     "metadata": {},
     "output_type": "execute_result"
    },
    {
     "data": {
      "text/plain": [
       "<matplotlib.image.AxesImage at 0x1a1f7d3940>"
      ]
     },
     "execution_count": 105,
     "metadata": {},
     "output_type": "execute_result"
    },
    {
     "data": {
      "text/plain": [
       "<matplotlib.image.AxesImage at 0x1a1f863f60>"
      ]
     },
     "execution_count": 105,
     "metadata": {},
     "output_type": "execute_result"
    },
    {
     "data": {
      "text/plain": [
       "<matplotlib.image.AxesImage at 0x1a1facbd30>"
      ]
     },
     "execution_count": 105,
     "metadata": {},
     "output_type": "execute_result"
    },
    {
     "data": {
      "text/plain": [
       "<matplotlib.image.AxesImage at 0x1a1fa96b38>"
      ]
     },
     "execution_count": 105,
     "metadata": {},
     "output_type": "execute_result"
    },
    {
     "data": {
      "text/plain": [
       "<matplotlib.image.AxesImage at 0x1a1fb84160>"
      ]
     },
     "execution_count": 105,
     "metadata": {},
     "output_type": "execute_result"
    },
    {
     "data": {
      "text/plain": [
       "<matplotlib.image.AxesImage at 0x1a2cba3748>"
      ]
     },
     "execution_count": 105,
     "metadata": {},
     "output_type": "execute_result"
    },
    {
     "data": {
      "text/plain": [
       "<matplotlib.image.AxesImage at 0x1a20025898>"
      ]
     },
     "execution_count": 105,
     "metadata": {},
     "output_type": "execute_result"
    },
    {
     "data": {
      "image/png": "[encoded data removed]",
      "text/plain": [
       "<Figure size 1440x144 with 9 Axes>"
      ]
     },
     "metadata": {
      "needs_background": "light"
     },
     "output_type": "display_data"
    }
   ],
   "source": [
    "# Getting data\n",
    "from keras.datasets import mnist\n",
    "import numpy as np\n",
    "(x_train, _), (x_test, _) = mnist.load_data()\n",
    "x_train = x_train.astype('float32') / 255.\n",
    "x_test = x_test.astype('float32') / 255.\n",
    "x_train = np.reshape(x_train, (len(x_train), 28, 28, 1))\n",
    "# adapt this if using `channels_first` image data format\n",
    "x_test = np.reshape(x_test, (len(x_test), 28, 28, 1))\n",
    "# adapt this if using `channels_first` image data format\n",
    "noise_factor = 0.5\n",
    "x_train_noisy = x_train + noise_factor * np.random.normal(loc=0.0,\n",
    "scale=1.0, size=x_train.shape)\n",
    "x_test_noisy = x_test + noise_factor * np.random.normal(loc=0.0,\n",
    "scale=1.0, size=x_test.shape)\n",
    "x_train_noisy = np.clip(x_train_noisy, 0., 1.)\n",
    "x_test_noisy = np.clip(x_test_noisy, 0., 1.)\n",
    "\n",
    "# Seeing noisy digits\n",
    "import matplotlib.pyplot as plt\n",
    "%matplotlib inline\n",
    "n = 10\n",
    "plt.figure(figsize=(20, 2))\n",
    "for i in range(1,n,1):\n",
    "    ax = plt.subplot(1, n, i)\n",
    "    plt.imshow(x_test_noisy[i].reshape(28, 28))\n",
    "    plt.gray()\n",
    "    ax.get_xaxis().set_visible(False)\n",
    "    ax.get_yaxis().set_visible(False)\n",
    "plt.show()"
   ]
  },
  {
   "cell_type": "code",
   "execution_count": 99,
   "metadata": {},
   "outputs": [],
   "source": [
    "# Using 32: \n",
    "from keras.layers import Input, Dense, Conv2D, MaxPooling2D, UpSampling2D\n",
    "from keras.models import Model\n",
    "from keras import backend as K\n",
    "input_img = Input(shape=(28, 28, 1)) \n",
    "x = Conv2D(32, (3, 3), activation='relu', padding='same')(input_img)\n",
    "x = MaxPooling2D((2, 2), padding='same')(x)\n",
    "x = Conv2D(32, (3, 3), activation='relu', padding='same')(x)\n",
    "encoded = MaxPooling2D((2, 2), padding='same')(x)\n",
    "# at this point the representation is (7, 7, 32)\n",
    "x = Conv2D(32, (3, 3), activation='relu', padding='same')(encoded)\n",
    "x = UpSampling2D((2, 2))(x)\n",
    "x = Conv2D(32, (3, 3), activation='relu', padding='same')(x)\n",
    "x = UpSampling2D((2, 2))(x)\n",
    "decoded = Conv2D(1, (3, 3), activation='sigmoid', padding='same')(x)\n",
    "autoencoder = Model(input_img, decoded)\n",
    "autoencoder.compile(optimizer='adadelta', loss='binary_crossentropy')"
   ]
  },
  {
   "cell_type": "code",
   "execution_count": 107,
   "metadata": {},
   "outputs": [
    {
     "name": "stdout",
     "output_type": "stream",
     "text": [
      "Train on 60000 samples, validate on 10000 samples\n",
      "Epoch 1/3\n",
      "60000/60000 [==============================] - 103s 2ms/step - loss: 0.1110 - val_loss: 0.1062\n",
      "Epoch 2/3\n",
      "60000/60000 [==============================] - 101s 2ms/step - loss: 0.1075 - val_loss: 0.1057\n",
      "Epoch 3/3\n",
      "60000/60000 [==============================] - 98s 2ms/step - loss: 0.1052 - val_loss: 0.1037\n"
     ]
    },
    {
     "data": {
      "text/plain": [
       "<keras.callbacks.History at 0x1a28042c88>"
      ]
     },
     "execution_count": 107,
     "metadata": {},
     "output_type": "execute_result"
    }
   ],
   "source": [
    "# Model train\n",
    "autoencoder.fit(x_train_noisy, x_train,\n",
    "    epochs=3, # Setting epochs low b/c running this locally\n",
    "    batch_size=128,\n",
    "    shuffle=True,\n",
    "    validation_data=([x_test_noisy, x_test]))"
   ]
  },
  {
   "cell_type": "code",
   "execution_count": 108,
   "metadata": {},
   "outputs": [
    {
     "data": {
      "text/plain": [
       "<Figure size 1440x288 with 0 Axes>"
      ]
     },
     "execution_count": 108,
     "metadata": {},
     "output_type": "execute_result"
    },
    {
     "data": {
      "text/plain": [
       "<matplotlib.image.AxesImage at 0x1a286dc780>"
      ]
     },
     "execution_count": 108,
     "metadata": {},
     "output_type": "execute_result"
    },
    {
     "data": {
      "text/plain": [
       "<matplotlib.image.AxesImage at 0x1a288176d8>"
      ]
     },
     "execution_count": 108,
     "metadata": {},
     "output_type": "execute_result"
    },
    {
     "data": {
      "text/plain": [
       "<matplotlib.image.AxesImage at 0x1a288073c8>"
      ]
     },
     "execution_count": 108,
     "metadata": {},
     "output_type": "execute_result"
    },
    {
     "data": {
      "text/plain": [
       "<matplotlib.image.AxesImage at 0x1a288759e8>"
      ]
     },
     "execution_count": 108,
     "metadata": {},
     "output_type": "execute_result"
    },
    {
     "data": {
      "text/plain": [
       "<matplotlib.image.AxesImage at 0x1a15e1ef98>"
      ]
     },
     "execution_count": 108,
     "metadata": {},
     "output_type": "execute_result"
    },
    {
     "data": {
      "text/plain": [
       "<matplotlib.image.AxesImage at 0x312ab85c0>"
      ]
     },
     "execution_count": 108,
     "metadata": {},
     "output_type": "execute_result"
    },
    {
     "data": {
      "text/plain": [
       "<matplotlib.image.AxesImage at 0x312ae1ba8>"
      ]
     },
     "execution_count": 108,
     "metadata": {},
     "output_type": "execute_result"
    },
    {
     "data": {
      "text/plain": [
       "<matplotlib.image.AxesImage at 0x1a15fb41d0>"
      ]
     },
     "execution_count": 108,
     "metadata": {},
     "output_type": "execute_result"
    },
    {
     "data": {
      "text/plain": [
       "<matplotlib.image.AxesImage at 0x1a15f397b8>"
      ]
     },
     "execution_count": 108,
     "metadata": {},
     "output_type": "execute_result"
    },
    {
     "data": {
      "text/plain": [
       "<matplotlib.image.AxesImage at 0x1a15f67da0>"
      ]
     },
     "execution_count": 108,
     "metadata": {},
     "output_type": "execute_result"
    },
    {
     "data": {
      "text/plain": [
       "<matplotlib.image.AxesImage at 0x1a15dd03c8>"
      ]
     },
     "execution_count": 108,
     "metadata": {},
     "output_type": "execute_result"
    },
    {
     "data": {
      "text/plain": [
       "<matplotlib.image.AxesImage at 0x312bc89b0>"
      ]
     },
     "execution_count": 108,
     "metadata": {},
     "output_type": "execute_result"
    },
    {
     "data": {
      "text/plain": [
       "<matplotlib.image.AxesImage at 0x312bf2f98>"
      ]
     },
     "execution_count": 108,
     "metadata": {},
     "output_type": "execute_result"
    },
    {
     "data": {
      "text/plain": [
       "<matplotlib.image.AxesImage at 0x1a15e9e5c0>"
      ]
     },
     "execution_count": 108,
     "metadata": {},
     "output_type": "execute_result"
    },
    {
     "data": {
      "text/plain": [
       "<matplotlib.image.AxesImage at 0x1a16195ba8>"
      ]
     },
     "execution_count": 108,
     "metadata": {},
     "output_type": "execute_result"
    },
    {
     "data": {
      "text/plain": [
       "<matplotlib.image.AxesImage at 0x1a162ae1d0>"
      ]
     },
     "execution_count": 108,
     "metadata": {},
     "output_type": "execute_result"
    },
    {
     "data": {
      "text/plain": [
       "<matplotlib.image.AxesImage at 0x1a162da7b8>"
      ]
     },
     "execution_count": 108,
     "metadata": {},
     "output_type": "execute_result"
    },
    {
     "data": {
      "text/plain": [
       "<matplotlib.image.AxesImage at 0x1a16302da0>"
      ]
     },
     "execution_count": 108,
     "metadata": {},
     "output_type": "execute_result"
    },
    {
     "data": {
      "text/plain": [
       "<matplotlib.image.AxesImage at 0x1a163353c8>"
      ]
     },
     "execution_count": 108,
     "metadata": {},
     "output_type": "execute_result"
    },
    {
     "data": {
      "text/plain": [
       "<matplotlib.image.AxesImage at 0x1a163619b0>"
      ]
     },
     "execution_count": 108,
     "metadata": {},
     "output_type": "execute_result"
    },
    {
     "data": {
      "image/png": "[encoded data removed]",
      "text/plain": [
       "<Figure size 1440x288 with 20 Axes>"
      ]
     },
     "metadata": {
      "needs_background": "light"
     },
     "output_type": "display_data"
    }
   ],
   "source": [
    "# Seeing Results of '32'\n",
    "decoded_imgs = autoencoder.predict(x_test)\n",
    "import matplotlib.pyplot as plt\n",
    "%matplotlib inline\n",
    "n = 10 # how many digits we will display\n",
    "plt.figure(figsize=(20, 4))\n",
    "for i in range(n):\n",
    "    # display original noisy images\n",
    "    ax = plt.subplot(2, n, i + 1)\n",
    "    plt.imshow(x_test_noisy[i].reshape(28, 28))\n",
    "    plt.gray()\n",
    "    ax.get_xaxis().set_visible(False)\n",
    "    ax.get_yaxis().set_visible(False)\n",
    "    # display reconstruction\n",
    "    ax = plt.subplot(2, n, i + 1 + n)\n",
    "    plt.imshow(decoded_imgs[i].reshape(28, 28))\n",
    "    plt.gray()\n",
    "    ax.get_xaxis().set_visible(False)\n",
    "    ax.get_yaxis().set_visible(False)\n",
    "plt.show()"
   ]
  },
  {
   "cell_type": "markdown",
   "metadata": {},
   "source": [
    "Building and training '16' model: \n"
   ]
  },
  {
   "cell_type": "code",
   "execution_count": 109,
   "metadata": {},
   "outputs": [
    {
     "name": "stdout",
     "output_type": "stream",
     "text": [
      "Train on 60000 samples, validate on 10000 samples\n",
      "Epoch 1/3\n",
      "60000/60000 [==============================] - 56s 940us/step - loss: 0.1887 - val_loss: 0.1307\n",
      "Epoch 2/3\n",
      "60000/60000 [==============================] - 56s 940us/step - loss: 0.1270 - val_loss: 0.1197\n",
      "Epoch 3/3\n",
      "60000/60000 [==============================] - 56s 935us/step - loss: 0.1186 - val_loss: 0.1173\n"
     ]
    },
    {
     "data": {
      "text/plain": [
       "<keras.callbacks.History at 0x1a16957518>"
      ]
     },
     "execution_count": 109,
     "metadata": {},
     "output_type": "execute_result"
    },
    {
     "data": {
      "text/plain": [
       "<Figure size 1440x288 with 0 Axes>"
      ]
     },
     "execution_count": 109,
     "metadata": {},
     "output_type": "execute_result"
    },
    {
     "data": {
      "text/plain": [
       "<matplotlib.image.AxesImage at 0x1a2fa03748>"
      ]
     },
     "execution_count": 109,
     "metadata": {},
     "output_type": "execute_result"
    },
    {
     "data": {
      "text/plain": [
       "<matplotlib.image.AxesImage at 0x1a2fa18d68>"
      ]
     },
     "execution_count": 109,
     "metadata": {},
     "output_type": "execute_result"
    },
    {
     "data": {
      "text/plain": [
       "<matplotlib.image.AxesImage at 0x1a2fa36390>"
      ]
     },
     "execution_count": 109,
     "metadata": {},
     "output_type": "execute_result"
    },
    {
     "data": {
      "text/plain": [
       "<matplotlib.image.AxesImage at 0x1a166f39b0>"
      ]
     },
     "execution_count": 109,
     "metadata": {},
     "output_type": "execute_result"
    },
    {
     "data": {
      "text/plain": [
       "<matplotlib.image.AxesImage at 0x1a1670af60>"
      ]
     },
     "execution_count": 109,
     "metadata": {},
     "output_type": "execute_result"
    },
    {
     "data": {
      "text/plain": [
       "<matplotlib.image.AxesImage at 0x1a167a9588>"
      ]
     },
     "execution_count": 109,
     "metadata": {},
     "output_type": "execute_result"
    },
    {
     "data": {
      "text/plain": [
       "<matplotlib.image.AxesImage at 0x1a167c6b70>"
      ]
     },
     "execution_count": 109,
     "metadata": {},
     "output_type": "execute_result"
    },
    {
     "data": {
      "text/plain": [
       "<matplotlib.image.AxesImage at 0x1a1674c198>"
      ]
     },
     "execution_count": 109,
     "metadata": {},
     "output_type": "execute_result"
    },
    {
     "data": {
      "text/plain": [
       "<matplotlib.image.AxesImage at 0x1a1676e780>"
      ]
     },
     "execution_count": 109,
     "metadata": {},
     "output_type": "execute_result"
    },
    {
     "data": {
      "text/plain": [
       "<matplotlib.image.AxesImage at 0x1a16c1dd68>"
      ]
     },
     "execution_count": 109,
     "metadata": {},
     "output_type": "execute_result"
    },
    {
     "data": {
      "text/plain": [
       "<matplotlib.image.AxesImage at 0x1a16c46390>"
      ]
     },
     "execution_count": 109,
     "metadata": {},
     "output_type": "execute_result"
    },
    {
     "data": {
      "text/plain": [
       "<matplotlib.image.AxesImage at 0x1a161db978>"
      ]
     },
     "execution_count": 109,
     "metadata": {},
     "output_type": "execute_result"
    },
    {
     "data": {
      "text/plain": [
       "<matplotlib.image.AxesImage at 0x1a16200f60>"
      ]
     },
     "execution_count": 109,
     "metadata": {},
     "output_type": "execute_result"
    },
    {
     "data": {
      "text/plain": [
       "<matplotlib.image.AxesImage at 0x1a16263588>"
      ]
     },
     "execution_count": 109,
     "metadata": {},
     "output_type": "execute_result"
    },
    {
     "data": {
      "text/plain": [
       "<matplotlib.image.AxesImage at 0x1a16690b70>"
      ]
     },
     "execution_count": 109,
     "metadata": {},
     "output_type": "execute_result"
    },
    {
     "data": {
      "text/plain": [
       "<matplotlib.image.AxesImage at 0x1a16b8b198>"
      ]
     },
     "execution_count": 109,
     "metadata": {},
     "output_type": "execute_result"
    },
    {
     "data": {
      "text/plain": [
       "<matplotlib.image.AxesImage at 0x1a16bb4780>"
      ]
     },
     "execution_count": 109,
     "metadata": {},
     "output_type": "execute_result"
    },
    {
     "data": {
      "text/plain": [
       "<matplotlib.image.AxesImage at 0x1a16bdfd68>"
      ]
     },
     "execution_count": 109,
     "metadata": {},
     "output_type": "execute_result"
    },
    {
     "data": {
      "text/plain": [
       "<matplotlib.image.AxesImage at 0x1a16c7f390>"
      ]
     },
     "execution_count": 109,
     "metadata": {},
     "output_type": "execute_result"
    },
    {
     "data": {
      "text/plain": [
       "<matplotlib.image.AxesImage at 0x1a16caa978>"
      ]
     },
     "execution_count": 109,
     "metadata": {},
     "output_type": "execute_result"
    },
    {
     "data": {
      "image/png": "[encoded data removed]",
      "text/plain": [
       "<Figure size 1440x288 with 20 Axes>"
      ]
     },
     "metadata": {
      "needs_background": "light"
     },
     "output_type": "display_data"
    }
   ],
   "source": [
    "input_img = Input(shape=(28, 28, 1)) \n",
    "x = Conv2D(16, (3, 3), activation='relu', padding='same')(input_img)\n",
    "x = MaxPooling2D((2, 2), padding='same')(x)\n",
    "x = Conv2D(16, (3, 3), activation='relu', padding='same')(x)\n",
    "encoded = MaxPooling2D((2, 2), padding='same')(x)\n",
    "# at this point the representation is (7, 7, 32)\n",
    "x = Conv2D(16, (3, 3), activation='relu', padding='same')(encoded)\n",
    "x = UpSampling2D((2, 2))(x)\n",
    "x = Conv2D(16, (3, 3), activation='relu', padding='same')(x)\n",
    "x = UpSampling2D((2, 2))(x)\n",
    "decoded = Conv2D(1, (3, 3), activation='sigmoid', padding='same')(x)\n",
    "autoencoder = Model(input_img, decoded)\n",
    "autoencoder.compile(optimizer='adadelta', loss='binary_crossentropy')\n",
    "\n",
    "# Model train\n",
    "autoencoder.fit(x_train_noisy, x_train,\n",
    "    epochs=3, # Setting epochs low b/c running this locally\n",
    "    batch_size=128,\n",
    "    shuffle=True,\n",
    "    validation_data=([x_test_noisy, x_test]))\n",
    "\n",
    "# Seeing Results of '16'\n",
    "decoded_imgs = autoencoder.predict(x_test)\n",
    "import matplotlib.pyplot as plt\n",
    "%matplotlib inline\n",
    "n = 10 # how many digits we will display\n",
    "plt.figure(figsize=(20, 4))\n",
    "for i in range(n):\n",
    "    # display original noisy images\n",
    "    ax = plt.subplot(2, n, i + 1)\n",
    "    plt.imshow(x_test_noisy[i].reshape(28, 28))\n",
    "    plt.gray()\n",
    "    ax.get_xaxis().set_visible(False)\n",
    "    ax.get_yaxis().set_visible(False)\n",
    "    # display reconstruction\n",
    "    ax = plt.subplot(2, n, i + 1 + n)\n",
    "    plt.imshow(decoded_imgs[i].reshape(28, 28))\n",
    "    plt.gray()\n",
    "    ax.get_xaxis().set_visible(False)\n",
    "    ax.get_yaxis().set_visible(False)\n",
    "plt.show()"
   ]
  },
  {
   "cell_type": "markdown",
   "metadata": {},
   "source": [
    "The results are noticeably less clear with '16' channels vs '36'"
   ]
  }
 ],
 "metadata": {
  "kernelspec": {
   "display_name": "Python 3",
   "language": "python",
   "name": "python3"
  },
  "language_info": {
   "codemirror_mode": {
    "name": "ipython",
    "version": 3
   },
   "file_extension": ".py",
   "mimetype": "text/x-python",
   "name": "python",
   "nbconvert_exporter": "python",
   "pygments_lexer": "ipython3",
   "version": "3.7.1"
  }
 },
 "nbformat": 4,
 "nbformat_minor": 2
}
